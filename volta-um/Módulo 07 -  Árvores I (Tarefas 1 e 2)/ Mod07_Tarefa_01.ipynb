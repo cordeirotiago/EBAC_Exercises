{
 "cells": [
  {
   "cell_type": "markdown",
   "metadata": {
    "id": "d8yCrvnM_2sd"
   },
   "source": [
    "# Módulo 07, Tarefa 01\n",
    "\n",
    "Vamos começar a mexer na nossa base de projeto? Já fizemos um exercício de montar a variável resposta, já pudemos perceber que essa atividade pode não ser trivial. Vamos agora trabalhar a base para que fique propícia ao *scikitlearn* para trabalharmos.\n",
    "\n",
    "Lembrando, a base se chama demo01.csv, e originalmente está publicada [aqui](https://www.kaggle.com/rikdifos/credit-card-approval-prediction)."
   ]
  },
  {
   "cell_type": "markdown",
   "metadata": {
    "id": "hcMBVVE8_2sg"
   },
   "source": [
    "#### 1) Carregue a base e avalie:\n",
    "\n",
    "- As variáveis\n",
    "- Tipos de dados de cada variável\n",
    "- Quantidade de missings\n",
    "- Distribuição da variável resposta (mau)"
   ]
  },
  {
   "cell_type": "code",
   "execution_count": 94,
   "metadata": {
    "id": "jfUxW_PX_2sh"
   },
   "outputs": [],
   "source": [
    "import pandas as pd\n",
    "import seaborn as sns\n",
    "import matplotlib.pyplot as plt\n",
    "\n",
    "data = 'demo01.csv'\n",
    "df = pd.read_csv(data)"
   ]
  },
  {
   "cell_type": "code",
   "execution_count": 96,
   "metadata": {},
   "outputs": [
    {
     "name": "stdout",
     "output_type": "stream",
     "text": [
      "sexo                      object\n",
      "posse_de_veiculo          object\n",
      "posse_de_imovel           object\n",
      "qtd_filhos                 int64\n",
      "tipo_renda                object\n",
      "educacao                  object\n",
      "estado_civil              object\n",
      "tipo_residencia           object\n",
      "idade                    float64\n",
      "tempo_emprego            float64\n",
      "possui_celular             int64\n",
      "possui_fone_comercial      int64\n",
      "possui_fone                int64\n",
      "possui_email               int64\n",
      "qt_pessoas_residencia    float64\n",
      "mau                         bool\n",
      "dtype: object\n",
      "  sexo posse_de_veiculo posse_de_imovel  qtd_filhos            tipo_renda  \\\n",
      "0    M                Y               Y           0               Working   \n",
      "1    F                N               Y           0  Commercial associate   \n",
      "2    F                N               Y           0  Commercial associate   \n",
      "3    M                Y               Y           0               Working   \n",
      "4    F                Y               N           0               Working   \n",
      "\n",
      "                        educacao          estado_civil    tipo_residencia  \\\n",
      "0  Secondary / secondary special               Married  House / apartment   \n",
      "1  Secondary / secondary special  Single / not married  House / apartment   \n",
      "2  Secondary / secondary special  Single / not married  House / apartment   \n",
      "3               Higher education               Married  House / apartment   \n",
      "4              Incomplete higher               Married  House / apartment   \n",
      "\n",
      "       idade  tempo_emprego  possui_celular  possui_fone_comercial  \\\n",
      "0  58.832877       3.106849               1                      0   \n",
      "1  52.356164       8.358904               1                      0   \n",
      "2  52.356164       8.358904               1                      0   \n",
      "3  46.224658       2.106849               1                      1   \n",
      "4  29.230137       3.021918               1                      0   \n",
      "\n",
      "   possui_fone  possui_email  qt_pessoas_residencia    mau  \n",
      "0            0             0                    2.0  False  \n",
      "1            1             1                    1.0  False  \n",
      "2            1             1                    1.0  False  \n",
      "3            1             1                    2.0  False  \n",
      "4            0             0                    2.0  False  \n"
     ]
    }
   ],
   "source": [
    "# Avaliar as variáveis e tipos de dados de cada variável\n",
    "print(df.dtypes)\n",
    "print(df.head())"
   ]
  },
  {
   "cell_type": "code",
   "execution_count": 98,
   "metadata": {},
   "outputs": [
    {
     "name": "stdout",
     "output_type": "stream",
     "text": [
      "sexo                     0\n",
      "posse_de_veiculo         0\n",
      "posse_de_imovel          0\n",
      "qtd_filhos               0\n",
      "tipo_renda               0\n",
      "educacao                 0\n",
      "estado_civil             0\n",
      "tipo_residencia          0\n",
      "idade                    0\n",
      "tempo_emprego            0\n",
      "possui_celular           0\n",
      "possui_fone_comercial    0\n",
      "possui_fone              0\n",
      "possui_email             0\n",
      "qt_pessoas_residencia    0\n",
      "mau                      0\n",
      "dtype: int64\n"
     ]
    }
   ],
   "source": [
    "# Verificar a quantidade de valores missings\n",
    "print(df.isna().sum())"
   ]
  },
  {
   "cell_type": "code",
   "execution_count": 100,
   "metadata": {},
   "outputs": [
    {
     "name": "stdout",
     "output_type": "stream",
     "text": [
      "count     16650\n",
      "unique        2\n",
      "top       False\n",
      "freq      16260\n",
      "Name: mau, dtype: object\n",
      "\n",
      "\n",
      "\n",
      "mau\n",
      "False    16260\n",
      "True       390\n",
      "Name: count, dtype: int64\n"
     ]
    }
   ],
   "source": [
    "# Analisar a distribuição da variável resposta ('mau')\n",
    "print(df['mau'].describe())\n",
    "print('\\n\\n')\n",
    "print(df['mau'].value_counts())"
   ]
  },
  {
   "cell_type": "code",
   "execution_count": 102,
   "metadata": {},
   "outputs": [
    {
     "data": {
      "text/plain": [
       "<Axes: xlabel='mau', ylabel='count'>"
      ]
     },
     "execution_count": 102,
     "metadata": {},
     "output_type": "execute_result"
    },
    {
     "data": {
      "image/png": "[encoded data removed]",
      "text/plain": [
       "<Figure size 640x480 with 1 Axes>"
      ]
     },
     "metadata": {},
     "output_type": "display_data"
    }
   ],
   "source": [
    "sns.countplot(x = 'mau', data = df)"
   ]
  },
  {
   "cell_type": "markdown",
   "metadata": {
    "id": "_v0f02mE_2si"
   },
   "source": [
    "#### 2) Vamos montar um metadados\n",
    "\n",
    "1. Crie um dataframe com os nomes de cada variável e o tipo de dados de cada variável.\n",
    "2. Adicione uma coluna nesse *dataframe* chamada \"qtd_categorias\" e coloque nela o número de categorias correspondente de cada variável.\n",
    "    Dica:\n",
    "        1. inicie uma lista vazia\n",
    "        2. faça um for ao longo dos nomes das variáveis,\n",
    "        3. conte o número de categorias dessa variável\n",
    "        4. acumule essa informação de 3. na lista que você criou em 1.\n",
    "        5. No final, essa lista pode ser atribuída à nossa variável."
   ]
  },
  {
   "cell_type": "code",
   "execution_count": 104,
   "metadata": {},
   "outputs": [
    {
     "data": {
      "text/plain": [
       "Index(['sexo', 'posse_de_veiculo', 'posse_de_imovel', 'qtd_filhos',\n",
       "       'tipo_renda', 'educacao', 'estado_civil', 'tipo_residencia', 'idade',\n",
       "       'tempo_emprego', 'possui_celular', 'possui_fone_comercial',\n",
       "       'possui_fone', 'possui_email', 'qt_pessoas_residencia', 'mau'],\n",
       "      dtype='object')"
      ]
     },
     "execution_count": 104,
     "metadata": {},
     "output_type": "execute_result"
    }
   ],
   "source": [
    "df.columns"
   ]
  },
  {
   "cell_type": "code",
   "execution_count": 106,
   "metadata": {
    "id": "gNF5BRdA_2si"
   },
   "outputs": [
    {
     "name": "stdout",
     "output_type": "stream",
     "text": [
      "                 variavel     tipo\n",
      "0                    sexo   object\n",
      "1        posse_de_veiculo   object\n",
      "2         posse_de_imovel   object\n",
      "3              qtd_filhos    int64\n",
      "4              tipo_renda   object\n",
      "5                educacao   object\n",
      "6            estado_civil   object\n",
      "7         tipo_residencia   object\n",
      "8                   idade  float64\n",
      "9           tempo_emprego  float64\n",
      "10         possui_celular    int64\n",
      "11  possui_fone_comercial    int64\n",
      "12            possui_fone    int64\n",
      "13           possui_email    int64\n",
      "14  qt_pessoas_residencia  float64\n",
      "15                    mau     bool\n"
     ]
    }
   ],
   "source": [
    "metadados = pd.DataFrame(df.dtypes, columns=['tipo'])\n",
    "metadados.reset_index(inplace=True)\n",
    "metadados.rename(columns={'index': 'variavel'}, inplace=True)\n",
    "print(metadados)"
   ]
  },
  {
   "cell_type": "code",
   "execution_count": 108,
   "metadata": {},
   "outputs": [
    {
     "name": "stdout",
     "output_type": "stream",
     "text": [
      "                 variavel     tipo  qtd_categorias\n",
      "0                    sexo   object               2\n",
      "1        posse_de_veiculo   object               2\n",
      "2         posse_de_imovel   object               2\n",
      "3              qtd_filhos    int64               8\n",
      "4              tipo_renda   object               5\n",
      "5                educacao   object               5\n",
      "6            estado_civil   object               5\n",
      "7         tipo_residencia   object               6\n",
      "8                   idade  float64            5298\n",
      "9           tempo_emprego  float64            3005\n",
      "10         possui_celular    int64               1\n",
      "11  possui_fone_comercial    int64               2\n",
      "12            possui_fone    int64               2\n",
      "13           possui_email    int64               2\n",
      "14  qt_pessoas_residencia  float64               9\n",
      "15                    mau     bool               2\n"
     ]
    }
   ],
   "source": [
    "# Inicie uma lista vazia\n",
    "qtd_categorias = []\n",
    "\n",
    "# Itere pelos nomes das variáveis\n",
    "for coluna in df.columns:\n",
    "    # Conte o número de categorias (valores únicos) de cada variável\n",
    "    num_categorias = df[coluna].nunique()\n",
    "    # Acumule essa informação na lista\n",
    "    qtd_categorias.append(num_categorias)\n",
    "\n",
    "# Adicione a lista ao DataFrame de metadados\n",
    "metadados['qtd_categorias'] = qtd_categorias\n",
    "\n",
    "print(metadados)"
   ]
  },
  {
   "cell_type": "markdown",
   "metadata": {
    "id": "h0XKJFhY_2si"
   },
   "source": [
    "#### 3) Crie variáveis dummy para as variáveis necessárias (i.e. aquelas que são qualitativas e não estão armazenadas como {0, 1} ou {True, False}. Crie um *dataframe* apenas com as variáveis apropriadas para entrada no scikitlearn - elimine as variáveis tipo *str*, mantendo apenas suas versões *dummy*."
   ]
  },
  {
   "cell_type": "code",
   "execution_count": 110,
   "metadata": {
    "id": "ePbdZDOi_2sj"
   },
   "outputs": [
    {
     "name": "stdout",
     "output_type": "stream",
     "text": [
      "       qtd_filhos      idade  tempo_emprego  possui_celular  \\\n",
      "0               0  58.832877       3.106849               1   \n",
      "1               0  52.356164       8.358904               1   \n",
      "2               0  52.356164       8.358904               1   \n",
      "3               0  46.224658       2.106849               1   \n",
      "4               0  29.230137       3.021918               1   \n",
      "...           ...        ...            ...             ...   \n",
      "16645           0  54.109589       9.884932               1   \n",
      "16646           0  43.389041       7.380822               1   \n",
      "16647           0  30.005479       9.800000               1   \n",
      "16648           0  30.005479       9.800000               1   \n",
      "16649           0  33.936986       3.630137               1   \n",
      "\n",
      "       possui_fone_comercial  possui_fone  possui_email  \\\n",
      "0                          0            0             0   \n",
      "1                          0            1             1   \n",
      "2                          0            1             1   \n",
      "3                          1            1             1   \n",
      "4                          0            0             0   \n",
      "...                      ...          ...           ...   \n",
      "16645                      0            0             0   \n",
      "16646                      1            1             0   \n",
      "16647                      1            0             0   \n",
      "16648                      1            0             0   \n",
      "16649                      0            1             1   \n",
      "\n",
      "       qt_pessoas_residencia    mau  sexo_M  ...  \\\n",
      "0                        2.0  False    True  ...   \n",
      "1                        1.0  False   False  ...   \n",
      "2                        1.0  False   False  ...   \n",
      "3                        2.0  False    True  ...   \n",
      "4                        2.0  False   False  ...   \n",
      "...                      ...    ...     ...  ...   \n",
      "16645                    2.0   True   False  ...   \n",
      "16646                    2.0   True   False  ...   \n",
      "16647                    2.0   True    True  ...   \n",
      "16648                    2.0   True    True  ...   \n",
      "16649                    2.0   True   False  ...   \n",
      "\n",
      "       educacao_Secondary / secondary special  estado_civil_Married  \\\n",
      "0                                        True                  True   \n",
      "1                                        True                 False   \n",
      "2                                        True                 False   \n",
      "3                                       False                  True   \n",
      "4                                       False                  True   \n",
      "...                                       ...                   ...   \n",
      "16645                                    True                 False   \n",
      "16646                                    True                  True   \n",
      "16647                                    True                  True   \n",
      "16648                                    True                  True   \n",
      "16649                                   False                  True   \n",
      "\n",
      "       estado_civil_Separated  estado_civil_Single / not married  \\\n",
      "0                       False                              False   \n",
      "1                       False                               True   \n",
      "2                       False                               True   \n",
      "3                       False                              False   \n",
      "4                       False                              False   \n",
      "...                       ...                                ...   \n",
      "16645                   False                              False   \n",
      "16646                   False                              False   \n",
      "16647                   False                              False   \n",
      "16648                   False                              False   \n",
      "16649                   False                              False   \n",
      "\n",
      "       estado_civil_Widow  tipo_residencia_House / apartment  \\\n",
      "0                   False                               True   \n",
      "1                   False                               True   \n",
      "2                   False                               True   \n",
      "3                   False                               True   \n",
      "4                   False                               True   \n",
      "...                   ...                                ...   \n",
      "16645               False                               True   \n",
      "16646               False                               True   \n",
      "16647               False                               True   \n",
      "16648               False                               True   \n",
      "16649               False                               True   \n",
      "\n",
      "       tipo_residencia_Municipal apartment  tipo_residencia_Office apartment  \\\n",
      "0                                    False                             False   \n",
      "1                                    False                             False   \n",
      "2                                    False                             False   \n",
      "3                                    False                             False   \n",
      "4                                    False                             False   \n",
      "...                                    ...                               ...   \n",
      "16645                                False                             False   \n",
      "16646                                False                             False   \n",
      "16647                                False                             False   \n",
      "16648                                False                             False   \n",
      "16649                                False                             False   \n",
      "\n",
      "       tipo_residencia_Rented apartment  tipo_residencia_With parents  \n",
      "0                                 False                         False  \n",
      "1                                 False                         False  \n",
      "2                                 False                         False  \n",
      "3                                 False                         False  \n",
      "4                                 False                         False  \n",
      "...                                 ...                           ...  \n",
      "16645                             False                         False  \n",
      "16646                             False                         False  \n",
      "16647                             False                         False  \n",
      "16648                             False                         False  \n",
      "16649                             False                         False  \n",
      "\n",
      "[16650 rows x 29 columns]\n"
     ]
    }
   ],
   "source": [
    "# Identifique as variáveis que são do tipo \"object\" (ou \"category\")\n",
    "categorical_columns = df.select_dtypes(include=['object']).columns\n",
    "\n",
    "# Crie variáveis dummy para as variáveis categóricas\n",
    "df_dummies = pd.get_dummies(df, columns=categorical_columns, drop_first=True)\n",
    "\n",
    "# Verifique o novo DataFrame\n",
    "print(df_dummies)"
   ]
  },
  {
   "cell_type": "code",
   "execution_count": 112,
   "metadata": {},
   "outputs": [
    {
     "name": "stdout",
     "output_type": "stream",
     "text": [
      "       qtd_filhos      idade  tempo_emprego  possui_celular  \\\n",
      "0               0  58.832877       3.106849               1   \n",
      "1               0  52.356164       8.358904               1   \n",
      "2               0  52.356164       8.358904               1   \n",
      "3               0  46.224658       2.106849               1   \n",
      "4               0  29.230137       3.021918               1   \n",
      "...           ...        ...            ...             ...   \n",
      "16645           0  54.109589       9.884932               1   \n",
      "16646           0  43.389041       7.380822               1   \n",
      "16647           0  30.005479       9.800000               1   \n",
      "16648           0  30.005479       9.800000               1   \n",
      "16649           0  33.936986       3.630137               1   \n",
      "\n",
      "       possui_fone_comercial  possui_fone  possui_email  \\\n",
      "0                          0            0             0   \n",
      "1                          0            1             1   \n",
      "2                          0            1             1   \n",
      "3                          1            1             1   \n",
      "4                          0            0             0   \n",
      "...                      ...          ...           ...   \n",
      "16645                      0            0             0   \n",
      "16646                      1            1             0   \n",
      "16647                      1            0             0   \n",
      "16648                      1            0             0   \n",
      "16649                      0            1             1   \n",
      "\n",
      "       qt_pessoas_residencia    mau  sexo_M  ...  \\\n",
      "0                        2.0  False    True  ...   \n",
      "1                        1.0  False   False  ...   \n",
      "2                        1.0  False   False  ...   \n",
      "3                        2.0  False    True  ...   \n",
      "4                        2.0  False   False  ...   \n",
      "...                      ...    ...     ...  ...   \n",
      "16645                    2.0   True   False  ...   \n",
      "16646                    2.0   True   False  ...   \n",
      "16647                    2.0   True    True  ...   \n",
      "16648                    2.0   True    True  ...   \n",
      "16649                    2.0   True   False  ...   \n",
      "\n",
      "       educacao_Secondary / secondary special  estado_civil_Married  \\\n",
      "0                                        True                  True   \n",
      "1                                        True                 False   \n",
      "2                                        True                 False   \n",
      "3                                       False                  True   \n",
      "4                                       False                  True   \n",
      "...                                       ...                   ...   \n",
      "16645                                    True                 False   \n",
      "16646                                    True                  True   \n",
      "16647                                    True                  True   \n",
      "16648                                    True                  True   \n",
      "16649                                   False                  True   \n",
      "\n",
      "       estado_civil_Separated  estado_civil_Single / not married  \\\n",
      "0                       False                              False   \n",
      "1                       False                               True   \n",
      "2                       False                               True   \n",
      "3                       False                              False   \n",
      "4                       False                              False   \n",
      "...                       ...                                ...   \n",
      "16645                   False                              False   \n",
      "16646                   False                              False   \n",
      "16647                   False                              False   \n",
      "16648                   False                              False   \n",
      "16649                   False                              False   \n",
      "\n",
      "       estado_civil_Widow  tipo_residencia_House / apartment  \\\n",
      "0                   False                               True   \n",
      "1                   False                               True   \n",
      "2                   False                               True   \n",
      "3                   False                               True   \n",
      "4                   False                               True   \n",
      "...                   ...                                ...   \n",
      "16645               False                               True   \n",
      "16646               False                               True   \n",
      "16647               False                               True   \n",
      "16648               False                               True   \n",
      "16649               False                               True   \n",
      "\n",
      "       tipo_residencia_Municipal apartment  tipo_residencia_Office apartment  \\\n",
      "0                                    False                             False   \n",
      "1                                    False                             False   \n",
      "2                                    False                             False   \n",
      "3                                    False                             False   \n",
      "4                                    False                             False   \n",
      "...                                    ...                               ...   \n",
      "16645                                False                             False   \n",
      "16646                                False                             False   \n",
      "16647                                False                             False   \n",
      "16648                                False                             False   \n",
      "16649                                False                             False   \n",
      "\n",
      "       tipo_residencia_Rented apartment  tipo_residencia_With parents  \n",
      "0                                 False                         False  \n",
      "1                                 False                         False  \n",
      "2                                 False                         False  \n",
      "3                                 False                         False  \n",
      "4                                 False                         False  \n",
      "...                                 ...                           ...  \n",
      "16645                             False                         False  \n",
      "16646                             False                         False  \n",
      "16647                             False                         False  \n",
      "16648                             False                         False  \n",
      "16649                             False                         False  \n",
      "\n",
      "[16650 rows x 29 columns]\n"
     ]
    }
   ],
   "source": [
    "# Verificando se há mais variáveis não numéricas e removendo-as\n",
    "df_final = df_dummies.select_dtypes(include=['number', 'bool'])\n",
    "print(df_final)"
   ]
  },
  {
   "cell_type": "markdown",
   "metadata": {
    "id": "uhaqFcPE_2sj"
   },
   "source": [
    "#### 4) Qual variável é mais poderosa?\n",
    "\n",
    "Considere as variáveis ```possui_email``` e ```posse_de_veiculo```. Faça uma tabela cruzada entre elas e responda qual delas te parece mais poderosa para prever a probabilidade de ```mau = 1```?"
   ]
  },
  {
   "cell_type": "code",
   "execution_count": 116,
   "metadata": {
    "id": "3wUAHc_-_2sj"
   },
   "outputs": [],
   "source": [
    "# Criando a tabela cruzada\n",
    "# Crie uma tabela cruzada básica\n",
    "tabela_cruzada = pd.crosstab(df_final[\"possui_email\"], df_final[\"posse_de_veiculo_Y\"])\n",
    "\n",
    "# calcular a média da variável \"mau\" para cada combinação, você pode fazer isso separadamente\n",
    "mean_mau = df_final.groupby([\"possui_email\", \"posse_de_veiculo_Y\"])[\"mau\"].mean().unstack()\n"
   ]
  },
  {
   "cell_type": "code",
   "execution_count": 118,
   "metadata": {},
   "outputs": [
    {
     "name": "stdout",
     "output_type": "stream",
     "text": [
      "Tabela Cruzada de Contagem:\n",
      "posse_de_veiculo_Y  False  True \n",
      "possui_email                    \n",
      "0                    9341   5829\n",
      "1                     837    643\n",
      "\n",
      "Média da variável 'mau':\n",
      "posse_de_veiculo_Y     False     True \n",
      "possui_email                          \n",
      "0                   0.024944  0.021788\n",
      "1                   0.016726  0.024883\n"
     ]
    }
   ],
   "source": [
    "print(\"Tabela Cruzada de Contagem:\")\n",
    "print(tabela_cruzada)\n",
    "\n",
    "print(\"\\nMédia da variável 'mau':\")\n",
    "print(mean_mau)"
   ]
  },
  {
   "cell_type": "markdown",
   "metadata": {},
   "source": [
    "De acordo com os resultados indicados da média da variável 'mau', vimos que quando o cliente possui veículo, mas não possui e-mail, ele apresenta uma média maior para a probabilidade de ser um cliente inadimplente."
   ]
  },
  {
   "cell_type": "markdown",
   "metadata": {
    "id": "G2Issl2e_2sj"
   },
   "source": [
    "#### 5) Salve a base, pois ela será utilizada no final deste módulo."
   ]
  },
  {
   "cell_type": "code",
   "execution_count": 120,
   "metadata": {
    "id": "KSEj8OL9_2sk"
   },
   "outputs": [
    {
     "name": "stdout",
     "output_type": "stream",
     "text": [
      "Data frame salvo com sucesso!\n"
     ]
    }
   ],
   "source": [
    "df_final.to_csv('demo_dummy01.csv', index = False)\n",
    "print('Data frame salvo com sucesso!')"
   ]
  }
 ],
 "metadata": {
  "colab": {
   "provenance": []
  },
  "kernelspec": {
   "display_name": "Python 3 (ipykernel)",
   "language": "python",
   "name": "python3"
  },
  "language_info": {
   "codemirror_mode": {
    "name": "ipython",
    "version": 3
   },
   "file_extension": ".py",
   "mimetype": "text/x-python",
   "name": "python",
   "nbconvert_exporter": "python",
   "pygments_lexer": "ipython3",
   "version": "3.12.4"
  }
 },
 "nbformat": 4,
 "nbformat_minor": 4
}
