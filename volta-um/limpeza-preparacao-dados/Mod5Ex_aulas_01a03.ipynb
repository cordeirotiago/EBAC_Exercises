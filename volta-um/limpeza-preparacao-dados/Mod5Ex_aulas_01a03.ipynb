{
 "cells": [
  {
   "cell_type": "markdown",
   "metadata": {},
   "source": [
    "# Módulo 5 Tarefa 1\n",
    "## Base de nascidos vivos do DataSUS\n",
    "O DataSUS disponibiliza diversos arquivos de dados com relação a seus segurados, conforme a [lei da transparência de informações públicas](https://www.sisgov.com/transparencia-acesso-informacao/#:~:text=A%20Lei%20da%20Transpar%C3%AAncia%20(LC,em%20um%20site%20na%20internet.). \n",
    "\n",
    "Essas informações podem ser obtidas pela internet [aqui](http://www2.datasus.gov.br/DATASUS/index.php?area=0901&item=1). Como o processo de obtenção desses arquivos foge um pouco do nosso escopo, deixamos o arquivo SINASC_RO_2019.csv` já como vai ser encontrado no DataSUS. O dicionário de dados está no arquivo `estrutura_sinasc_para_CD.pdf` (o nome do arquivo tal qual no portal do DataSUS).\n",
    "\n",
    "### Nosso objetivo\n",
    "Queremos deixar uma base organizada para podermos estudar a relação entre partos com risco para o bebê e algumas condições como tempo de parto, consultas de pré-natal etc.\n",
    "\n",
    "#### Preparação da base\n",
    "1. Carregue a base 'SINASC_RO_2019.csv'. Conte o número de registros e o número de registros não duplicados da base. Dica: você aprendeu um método que remove duplicados, encadeie este método com um outro método que conta o número de linhas. **Há linhas duplicadas?**  \n",
    "\n",
    "2. Conte o número de valores *missing* por variável.  \n",
    "\n",
    "3. Ok, no item anterior você deve ter achado pouco prático ler a informação de tantas variáveis, muitas delas nem devem ser interesantes. Então crie uma seleção dessa base somente com as colunas que interessam. São elas:\n",
    "` \n",
    "['LOCNASC', 'IDADEMAE', 'ESTCIVMAE', 'ESCMAE', 'QTDFILVIVO', \n",
    "    'GESTACAO', 'GRAVIDEZ', 'CONSULTAS', 'APGAR5'] \n",
    "`\n",
    "Refaça a contagem de valores *missings*.  \n",
    "\n",
    "4. Apgar é uma *nota* que o pediatra dá ao bebê quando nasce de acordo com algumas características associadas principalmente à respiração. Apgar 1 e Apgar 5 são as notas 1 e 5 minutos do nascimento. Apgar5 será a nossa variável de interesse principal. Então remova todos os registros com Apgar5 não preenchido. Para esta seleção, conte novamente o número de linhas e o número de *missings*.  \n",
    "\n",
    "5. observe que as variáveis `['ESTCIVMAE', 'CONSULTAS']` possuem o código `9`, que significa *ignorado*. Vamos assumir que o não preenchido é o mesmo que o código `9`.<br>\n",
    "6. Substitua os valores faltantes da quantitativa (`QTDFILVIVO`) por zero.  \n",
    "7. Das restantes, decida que valore te parece mais adequado (um 'não preenchido' ou um valor 'mais provável' como no item anterior) e preencha. Justifique. Lembre-se de que tratamento de dados é trabalho do cientista, e que estamos tomando decisões a todo o momento - não há necessariamente certo e errado aqui.  \n",
    "8. O Apgar possui uma classificação indicando se o bebê passou por asfixia:\n",
    "- Entre 8 e 10 está em uma faixa 'normal'. \n",
    "- Entre 6 e 7, significa que o recém-nascido passou por 'asfixia leve'. \n",
    "- Entre 4 e 5 significa 'asfixia moderada'.\n",
    "- Entre 0 e 3 significa 'asfixia severa'.  \n",
    "\n",
    "Crie uma categorização dessa variável com essa codificação e calcule as frequências dessa categorização.  \n",
    "<br>\n",
    "9. Renomeie as variáveis para que fiquem no *snake case*, ou seja, em letras minúsculas, com um *underscore* entre as palávras. Dica: repare que se você não quiser criar um *dataframe* novo, você vai precisar usar a opção `inplace = True`."
   ]
  },
  {
   "cell_type": "code",
   "execution_count": 173,
   "metadata": {},
   "outputs": [
    {
     "name": "stdout",
     "output_type": "stream",
     "text": [
      "(27028, 69)\n"
     ]
    },
    {
     "data": {
      "text/plain": [
       "(27028, 69)"
      ]
     },
     "execution_count": 173,
     "metadata": {},
     "output_type": "execute_result"
    }
   ],
   "source": [
    "import pandas as pd\n",
    "import requests\n",
    "\n",
    "# 1) seu código aqui\n",
    "sinasc = pd.read_csv('SINASC_RO_2019.csv')\n",
    "print(sinasc.shape)\n",
    "sinasc.drop_duplicates().shape\n",
    "# Não há duplicados"
   ]
  },
  {
   "cell_type": "code",
   "execution_count": 175,
   "metadata": {},
   "outputs": [
    {
     "data": {
      "text/plain": [
       "ORIGEM          0\n",
       "CODESTAB      115\n",
       "CODMUNNASC      0\n",
       "LOCNASC         0\n",
       "IDADEMAE        0\n",
       "             ... \n",
       "munResUf        0\n",
       "munResLat       1\n",
       "munResLon       1\n",
       "munResAlt       1\n",
       "munResArea      1\n",
       "Length: 69, dtype: int64"
      ]
     },
     "execution_count": 175,
     "metadata": {},
     "output_type": "execute_result"
    }
   ],
   "source": [
    "# 2) seu código aqui\n",
    "qtd_missings_por_coluna = sinasc.isna().sum()\n",
    "qtd_missings_por_coluna"
   ]
  },
  {
   "cell_type": "code",
   "execution_count": 177,
   "metadata": {},
   "outputs": [
    {
     "name": "stdout",
     "output_type": "stream",
     "text": [
      "<class 'pandas.core.frame.DataFrame'>\n",
      "RangeIndex: 27028 entries, 0 to 27027\n",
      "Data columns (total 9 columns):\n",
      " #   Column      Non-Null Count  Dtype  \n",
      "---  ------      --------------  -----  \n",
      " 0   LOCNASC     27028 non-null  int64  \n",
      " 1   IDADEMAE    27028 non-null  int64  \n",
      " 2   ESTCIVMAE   26711 non-null  float64\n",
      " 3   ESCMAE      26716 non-null  object \n",
      " 4   QTDFILVIVO  25455 non-null  float64\n",
      " 5   GESTACAO    25796 non-null  object \n",
      " 6   GRAVIDEZ    26949 non-null  object \n",
      " 7   CONSULTAS   27028 non-null  int64  \n",
      " 8   APGAR5      26925 non-null  float64\n",
      "dtypes: float64(3), int64(3), object(3)\n",
      "memory usage: 1.9+ MB\n"
     ]
    },
    {
     "data": {
      "text/plain": [
       "LOCNASC          0\n",
       "IDADEMAE         0\n",
       "ESTCIVMAE      317\n",
       "ESCMAE         312\n",
       "QTDFILVIVO    1573\n",
       "GESTACAO      1232\n",
       "GRAVIDEZ        79\n",
       "CONSULTAS        0\n",
       "APGAR5         103\n",
       "dtype: int64"
      ]
     },
     "execution_count": 177,
     "metadata": {},
     "output_type": "execute_result"
    }
   ],
   "source": [
    "# 3) seu código aqui\n",
    "#Selecionar colunas indicadas\n",
    "sinasc_col_filtered = sinasc.loc[:,sinasc.columns.isin(['LOCNASC', 'IDADEMAE', 'ESTCIVMAE', \n",
    "                                     'ESCMAE', 'QTDFILVIVO',   'GESTACAO', \n",
    "                                     'GRAVIDEZ', 'CONSULTAS', 'APGAR5'])].copy()\n",
    "\n",
    "sinasc_col_filtered.info()\n",
    "\n",
    "#Refazer a contagem de dados missing\n",
    "sinasc_col_filtered.isna().sum()"
   ]
  },
  {
   "cell_type": "code",
   "execution_count": 179,
   "metadata": {},
   "outputs": [
    {
     "name": "stdout",
     "output_type": "stream",
     "text": [
      "Total de missings na coluna APGAR5: 0\n",
      "Novo número de linhas e colunas no dataframe: (26925, 9)\n",
      "\n",
      "Valores missings restantes em cada variável:\n",
      "LOCNASC          0\n",
      "IDADEMAE         0\n",
      "ESTCIVMAE      315\n",
      "ESCMAE         310\n",
      "QTDFILVIVO    1566\n",
      "GESTACAO      1216\n",
      "GRAVIDEZ        76\n",
      "CONSULTAS        0\n",
      "APGAR5           0\n",
      "dtype: int64\n"
     ]
    }
   ],
   "source": [
    "# 4) seu código aqui\n",
    "#Contar número de missings na variável de interesse APGAR5\n",
    "sinasc_col_filtered['APGAR5'].isna().sum()\n",
    "\n",
    "#Remover os dados missings da coluna APGAR5\n",
    "sinasc_clean_apgar5 = sinasc_col_filtered.dropna(subset=['APGAR5']).copy()\n",
    "\n",
    "#Conte quantos missings existem na coluna APGAR5\n",
    "print(f'Total de missings na coluna APGAR5: {sinasc_clean_apgar5['APGAR5'].isna().sum()}')\n",
    "\n",
    "#Conte o número de linhas\n",
    "print(f'Novo número de linhas e colunas no dataframe: {sinasc_clean_apgar5.shape}')\n",
    "\n",
    "#Conte quantos missings existem no dataframe\n",
    "print(f'\\nValores missings restantes em cada variável:\\n{sinasc_clean_apgar5.isna().sum()}')\n"
   ]
  },
  {
   "cell_type": "code",
   "execution_count": 181,
   "metadata": {},
   "outputs": [
    {
     "data": {
      "text/plain": [
       "LOCNASC          0\n",
       "IDADEMAE         0\n",
       "ESTCIVMAE        0\n",
       "ESCMAE         310\n",
       "QTDFILVIVO    1566\n",
       "GESTACAO      1216\n",
       "GRAVIDEZ        76\n",
       "CONSULTAS        0\n",
       "APGAR5           0\n",
       "dtype: int64"
      ]
     },
     "execution_count": 181,
     "metadata": {},
     "output_type": "execute_result"
    }
   ],
   "source": [
    "# 5) Observe que as variáveis ['ESTCIVMAE', 'CONSULTAS'] possuem o código 9, que significa ignorado. \n",
    "#    Vamos assumir que o não preenchido é o mesmo que o código 9.\n",
    "sinasc_clean_apgar5['ESTCIVMAE'] = sinasc_clean_apgar5['ESTCIVMAE'].fillna(9)\n",
    "sinasc_clean_apgar5['CONSULTAS'] = sinasc_clean_apgar5['CONSULTAS'].fillna(9) #Esse dataset já estava limpo na coluna CONSULTAS\n",
    "\n",
    "\n",
    "sinasc_clean_apgar5.isna().sum()"
   ]
  },
  {
   "cell_type": "code",
   "execution_count": 183,
   "metadata": {},
   "outputs": [],
   "source": [
    "# 6) Substitua os valores faltantes da quantitativa (QTDFILVIVO) por zero\n",
    "sinasc_clean_apgar5['QTDFILVIVO'] = sinasc_clean_apgar5['QTDFILVIVO'].fillna(0)"
   ]
  },
  {
   "cell_type": "code",
   "execution_count": 185,
   "metadata": {},
   "outputs": [],
   "source": [
    "# 7) Das restantes, decida que valor te parece mais adequado \n",
    "#   (um 'não preenchido' ou um valor 'mais provável' como no item anterior) e preencha. \n",
    "#   Justifique. Lembre-se de que tratamento de dados é trabalho do cientista, e que estamos tomando decisões a \n",
    "#   todo o momento - não há necessariamente certo e errado aqui.\n",
    "\n",
    "#Como se refere ao nível educacional, pode ter sido uma pergunta opcional no formulário e foi ignorado\n",
    "sinasc_clean_apgar5['ESCMAE'] = sinasc_clean_apgar5['ESCMAE'].fillna(9) \n",
    "\n",
    "#A coluna GESTACAO  refere-se as semanas de gestação, como as opções englobam todas as quantidade de semanas é mais provável que tenha sido ignorado\n",
    "sinasc_clean_apgar5['GESTACAO'] = sinasc_clean_apgar5['GESTACAO'].fillna(9) \n",
    "\n",
    "#A coluna GRAVIDEZ indica o tipo de gravidez, e como se trata de um banco de dados sobre nascimentos, independentemente se houve o nascimento ou não, \n",
    "#houve uma gravidez de um feto ou mais, então é provável que tenha sido ignorado\n",
    "sinasc_clean_apgar5['GRAVIDEZ'] = sinasc_clean_apgar5['GRAVIDEZ'].fillna(9) \n"
   ]
  },
  {
   "cell_type": "code",
   "execution_count": 187,
   "metadata": {},
   "outputs": [
    {
     "data": {
      "text/plain": [
       "APGAR_CLASSIFICADO\n",
       "normal              26463\n",
       "asfixia leve          320\n",
       "asfixia severa         74\n",
       "asfixia moderada       68\n",
       "Name: count, dtype: int64"
      ]
     },
     "execution_count": 187,
     "metadata": {},
     "output_type": "execute_result"
    }
   ],
   "source": [
    "# 8) O Apgar possui uma classificação indicando se o bebê passou por asfixia:\n",
    "\n",
    "#Entre 8 e 10 está em uma faixa 'normal'.\n",
    "#Entre 6 e 7, significa que o recém-nascido passou por 'asfixia leve'.\n",
    "#Entre 4 e 5 significa 'asfixia moderada'.\n",
    "#Entre 0 e 3 significa 'asfixia severa'.\n",
    "#Crie uma categorização dessa variável com essa codificação e calcule as frequências dessa categorização.\n",
    "\n",
    "\n",
    "#Crie uma categorização dessa variável com essa codificação\n",
    "sinasc_clean_apgar5.loc[sinasc_clean_apgar5['APGAR5'] <= 10, 'APGAR_CLASSIFICADO' ] = 'normal'\n",
    "sinasc_clean_apgar5.loc[sinasc_clean_apgar5['APGAR5'] <= 7, 'APGAR_CLASSIFICADO' ] = 'asfixia leve'\n",
    "sinasc_clean_apgar5.loc[sinasc_clean_apgar5['APGAR5'] <= 5, 'APGAR_CLASSIFICADO' ] = 'asfixia moderada'\n",
    "sinasc_clean_apgar5.loc[sinasc_clean_apgar5['APGAR5'] <= 3, 'APGAR_CLASSIFICADO' ] = 'asfixia severa'\n",
    "\n",
    "#calcule as frequências dessa categorização\n",
    "sinasc_clean_apgar5['APGAR_CLASSIFICADO'].value_counts()"
   ]
  },
  {
   "cell_type": "code",
   "execution_count": 189,
   "metadata": {},
   "outputs": [
    {
     "name": "stdout",
     "output_type": "stream",
     "text": [
      "<class 'pandas.core.frame.DataFrame'>\n",
      "Index: 26925 entries, 0 to 27027\n",
      "Data columns (total 10 columns):\n",
      " #   Column              Non-Null Count  Dtype  \n",
      "---  ------              --------------  -----  \n",
      " 0   LOCNASC             26925 non-null  int64  \n",
      " 1   IDADEMAE            26925 non-null  int64  \n",
      " 2   ESTCIVMAE           26925 non-null  float64\n",
      " 3   ESCMAE              26925 non-null  object \n",
      " 4   QTDFILVIVO          26925 non-null  float64\n",
      " 5   GESTACAO            26925 non-null  object \n",
      " 6   GRAVIDEZ            26925 non-null  object \n",
      " 7   CONSULTAS           26925 non-null  int64  \n",
      " 8   APGAR5              26925 non-null  float64\n",
      " 9   APGAR_CLASSIFICADO  26925 non-null  object \n",
      "dtypes: float64(3), int64(3), object(4)\n",
      "memory usage: 2.3+ MB\n"
     ]
    }
   ],
   "source": [
    "sinasc_clean_apgar5.info()"
   ]
  },
  {
   "cell_type": "code",
   "execution_count": 191,
   "metadata": {},
   "outputs": [
    {
     "data": {
      "text/html": [
       "<div>\n",
       "<style scoped>\n",
       "    .dataframe tbody tr th:only-of-type {\n",
       "        vertical-align: middle;\n",
       "    }\n",
       "\n",
       "    .dataframe tbody tr th {\n",
       "        vertical-align: top;\n",
       "    }\n",
       "\n",
       "    .dataframe thead th {\n",
       "        text-align: right;\n",
       "    }\n",
       "</style>\n",
       "<table border=\"1\" class=\"dataframe\">\n",
       "  <thead>\n",
       "    <tr style=\"text-align: right;\">\n",
       "      <th></th>\n",
       "      <th>local_nasc</th>\n",
       "      <th>idade_mae</th>\n",
       "      <th>estado_civil_mae</th>\n",
       "      <th>escolaridade_mae</th>\n",
       "      <th>qtd_filhos_vivo</th>\n",
       "      <th>gestacao</th>\n",
       "      <th>gravidez</th>\n",
       "      <th>consultas</th>\n",
       "      <th>apgar_5</th>\n",
       "      <th>apgar_5_classificado</th>\n",
       "    </tr>\n",
       "  </thead>\n",
       "  <tbody>\n",
       "    <tr>\n",
       "      <th>0</th>\n",
       "      <td>1</td>\n",
       "      <td>19</td>\n",
       "      <td>5.0</td>\n",
       "      <td>8 a 11 anos</td>\n",
       "      <td>0.0</td>\n",
       "      <td>37 a 41 semanas</td>\n",
       "      <td>Única</td>\n",
       "      <td>4</td>\n",
       "      <td>10.0</td>\n",
       "      <td>normal</td>\n",
       "    </tr>\n",
       "    <tr>\n",
       "      <th>1</th>\n",
       "      <td>1</td>\n",
       "      <td>29</td>\n",
       "      <td>2.0</td>\n",
       "      <td>8 a 11 anos</td>\n",
       "      <td>1.0</td>\n",
       "      <td>37 a 41 semanas</td>\n",
       "      <td>Única</td>\n",
       "      <td>4</td>\n",
       "      <td>9.0</td>\n",
       "      <td>normal</td>\n",
       "    </tr>\n",
       "    <tr>\n",
       "      <th>2</th>\n",
       "      <td>1</td>\n",
       "      <td>37</td>\n",
       "      <td>9.0</td>\n",
       "      <td>8 a 11 anos</td>\n",
       "      <td>2.0</td>\n",
       "      <td>37 a 41 semanas</td>\n",
       "      <td>Única</td>\n",
       "      <td>4</td>\n",
       "      <td>10.0</td>\n",
       "      <td>normal</td>\n",
       "    </tr>\n",
       "    <tr>\n",
       "      <th>3</th>\n",
       "      <td>1</td>\n",
       "      <td>30</td>\n",
       "      <td>5.0</td>\n",
       "      <td>12 anos ou mais</td>\n",
       "      <td>0.0</td>\n",
       "      <td>37 a 41 semanas</td>\n",
       "      <td>Única</td>\n",
       "      <td>3</td>\n",
       "      <td>10.0</td>\n",
       "      <td>normal</td>\n",
       "    </tr>\n",
       "    <tr>\n",
       "      <th>4</th>\n",
       "      <td>1</td>\n",
       "      <td>30</td>\n",
       "      <td>2.0</td>\n",
       "      <td>8 a 11 anos</td>\n",
       "      <td>1.0</td>\n",
       "      <td>37 a 41 semanas</td>\n",
       "      <td>Única</td>\n",
       "      <td>4</td>\n",
       "      <td>10.0</td>\n",
       "      <td>normal</td>\n",
       "    </tr>\n",
       "    <tr>\n",
       "      <th>...</th>\n",
       "      <td>...</td>\n",
       "      <td>...</td>\n",
       "      <td>...</td>\n",
       "      <td>...</td>\n",
       "      <td>...</td>\n",
       "      <td>...</td>\n",
       "      <td>...</td>\n",
       "      <td>...</td>\n",
       "      <td>...</td>\n",
       "      <td>...</td>\n",
       "    </tr>\n",
       "    <tr>\n",
       "      <th>27023</th>\n",
       "      <td>1</td>\n",
       "      <td>32</td>\n",
       "      <td>2.0</td>\n",
       "      <td>12 anos ou mais</td>\n",
       "      <td>1.0</td>\n",
       "      <td>32 a 36 semanas</td>\n",
       "      <td>Única</td>\n",
       "      <td>4</td>\n",
       "      <td>9.0</td>\n",
       "      <td>normal</td>\n",
       "    </tr>\n",
       "    <tr>\n",
       "      <th>27024</th>\n",
       "      <td>1</td>\n",
       "      <td>19</td>\n",
       "      <td>1.0</td>\n",
       "      <td>8 a 11 anos</td>\n",
       "      <td>0.0</td>\n",
       "      <td>37 a 41 semanas</td>\n",
       "      <td>Única</td>\n",
       "      <td>4</td>\n",
       "      <td>9.0</td>\n",
       "      <td>normal</td>\n",
       "    </tr>\n",
       "    <tr>\n",
       "      <th>27025</th>\n",
       "      <td>1</td>\n",
       "      <td>24</td>\n",
       "      <td>2.0</td>\n",
       "      <td>8 a 11 anos</td>\n",
       "      <td>0.0</td>\n",
       "      <td>37 a 41 semanas</td>\n",
       "      <td>Única</td>\n",
       "      <td>4</td>\n",
       "      <td>10.0</td>\n",
       "      <td>normal</td>\n",
       "    </tr>\n",
       "    <tr>\n",
       "      <th>27026</th>\n",
       "      <td>1</td>\n",
       "      <td>21</td>\n",
       "      <td>2.0</td>\n",
       "      <td>8 a 11 anos</td>\n",
       "      <td>1.0</td>\n",
       "      <td>32 a 36 semanas</td>\n",
       "      <td>Única</td>\n",
       "      <td>4</td>\n",
       "      <td>9.0</td>\n",
       "      <td>normal</td>\n",
       "    </tr>\n",
       "    <tr>\n",
       "      <th>27027</th>\n",
       "      <td>1</td>\n",
       "      <td>18</td>\n",
       "      <td>5.0</td>\n",
       "      <td>8 a 11 anos</td>\n",
       "      <td>1.0</td>\n",
       "      <td>37 a 41 semanas</td>\n",
       "      <td>Única</td>\n",
       "      <td>4</td>\n",
       "      <td>8.0</td>\n",
       "      <td>normal</td>\n",
       "    </tr>\n",
       "  </tbody>\n",
       "</table>\n",
       "<p>26925 rows × 10 columns</p>\n",
       "</div>"
      ],
      "text/plain": [
       "       local_nasc  idade_mae  estado_civil_mae escolaridade_mae  \\\n",
       "0               1         19               5.0      8 a 11 anos   \n",
       "1               1         29               2.0      8 a 11 anos   \n",
       "2               1         37               9.0      8 a 11 anos   \n",
       "3               1         30               5.0  12 anos ou mais   \n",
       "4               1         30               2.0      8 a 11 anos   \n",
       "...           ...        ...               ...              ...   \n",
       "27023           1         32               2.0  12 anos ou mais   \n",
       "27024           1         19               1.0      8 a 11 anos   \n",
       "27025           1         24               2.0      8 a 11 anos   \n",
       "27026           1         21               2.0      8 a 11 anos   \n",
       "27027           1         18               5.0      8 a 11 anos   \n",
       "\n",
       "       qtd_filhos_vivo         gestacao gravidez  consultas  apgar_5  \\\n",
       "0                  0.0  37 a 41 semanas    Única          4     10.0   \n",
       "1                  1.0  37 a 41 semanas    Única          4      9.0   \n",
       "2                  2.0  37 a 41 semanas    Única          4     10.0   \n",
       "3                  0.0  37 a 41 semanas    Única          3     10.0   \n",
       "4                  1.0  37 a 41 semanas    Única          4     10.0   \n",
       "...                ...              ...      ...        ...      ...   \n",
       "27023              1.0  32 a 36 semanas    Única          4      9.0   \n",
       "27024              0.0  37 a 41 semanas    Única          4      9.0   \n",
       "27025              0.0  37 a 41 semanas    Única          4     10.0   \n",
       "27026              1.0  32 a 36 semanas    Única          4      9.0   \n",
       "27027              1.0  37 a 41 semanas    Única          4      8.0   \n",
       "\n",
       "      apgar_5_classificado  \n",
       "0                   normal  \n",
       "1                   normal  \n",
       "2                   normal  \n",
       "3                   normal  \n",
       "4                   normal  \n",
       "...                    ...  \n",
       "27023               normal  \n",
       "27024               normal  \n",
       "27025               normal  \n",
       "27026               normal  \n",
       "27027               normal  \n",
       "\n",
       "[26925 rows x 10 columns]"
      ]
     },
     "execution_count": 191,
     "metadata": {},
     "output_type": "execute_result"
    }
   ],
   "source": [
    "# 9) Renomeie as variáveis para que fiquem no snake case, ou seja, em letras minúsculas, com um underscore entre as palávras. \n",
    "#    Dica: repare que se você não quiser criar um dataframe novo, você vai precisar usar a opção inplace = True.\n",
    "\n",
    "sinasc_clean_apgar5.columns = (['local_nasc', 'idade_mae', 'estado_civil_mae', 'escolaridade_mae', \n",
    "                               'qtd_filhos_vivo', 'gestacao', 'gravidez', 'consultas', 'apgar_5','apgar_5_classificado'])\n",
    "\n",
    "\n",
    "#como observado em aula para renomear colunas não é necessário o inplace = True, apenas no caso de renomear o index\n",
    "sinasc_clean_apgar5\n",
    "\n"
   ]
  }
 ],
 "metadata": {
  "kernelspec": {
   "display_name": "Python 3 (ipykernel)",
   "language": "python",
   "name": "python3"
  },
  "language_info": {
   "codemirror_mode": {
    "name": "ipython",
    "version": 3
   },
   "file_extension": ".py",
   "mimetype": "text/x-python",
   "name": "python",
   "nbconvert_exporter": "python",
   "pygments_lexer": "ipython3",
   "version": "3.12.4"
  }
 },
 "nbformat": 4,
 "nbformat_minor": 4
}
