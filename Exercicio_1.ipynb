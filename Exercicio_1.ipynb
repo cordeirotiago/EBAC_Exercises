{
 "cells": [
  {
   "cell_type": "code",
   "execution_count": 1,
   "id": "e45e1bff-f2b5-463b-8f8e-5515e37cbda6",
   "metadata": {},
   "outputs": [
    {
     "data": {
      "text/plain": [
       "2"
      ]
     },
     "execution_count": 1,
     "metadata": {},
     "output_type": "execute_result"
    }
   ],
   "source": [
    " 1+ 1"
   ]
  },
  {
   "cell_type": "code",
   "execution_count": 3,
   "id": "ba77bf4b-7be5-4dc3-8cdd-0f2950625e09",
   "metadata": {},
   "outputs": [
    {
     "data": {
      "text/plain": [
       "144"
      ]
     },
     "execution_count": 3,
     "metadata": {},
     "output_type": "execute_result"
    }
   ],
   "source": [
    "12 ** 2"
   ]
  },
  {
   "cell_type": "markdown",
   "id": "528a6491-61e3-4e33-a31b-82074bccb17c",
   "metadata": {},
   "source": [
    "Exemplo de texto em *markdown*"
   ]
  },
  {
   "cell_type": "markdown",
   "id": "d81c57d2-4d93-485a-81f3-cfd987b1317b",
   "metadata": {},
   "source": [
    "## Exemplo de Título\n",
    "Célula com título em *Markdown*"
   ]
  }
 ],
 "metadata": {
  "kernelspec": {
   "display_name": "Python 3 (ipykernel)",
   "language": "python",
   "name": "python3"
  },
  "language_info": {
   "codemirror_mode": {
    "name": "ipython",
    "version": 3
   },
   "file_extension": ".py",
   "mimetype": "text/x-python",
   "name": "python",
   "nbconvert_exporter": "python",
   "pygments_lexer": "ipython3",
   "version": "3.12.4"
  }
 },
 "nbformat": 4,
 "nbformat_minor": 5
}
