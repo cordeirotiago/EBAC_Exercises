{
 "cells": [
  {
   "cell_type": "markdown",
   "metadata": {},
   "source": [
    "# Tarefa 01\n",
    "\n",
    "- Leia os enunciados com atenção\n",
    "- Saiba que pode haver mais de uma resposta correta\n",
    "- Insira novas células de código sempre que achar necessário\n",
    "- Em caso de dúvidas, procure os tutores\n",
    "- Divirta-se :)\n",
    "\n",
    "#### 1)  crie uma série do pandas a partir de uma lista com os dados abaixo:\n",
    "\n",
    "Em um estudo sobre alteração na tempreatura global, A NASA disponibiliza dados de diferenças de de temperatura média da superfície terrestre relativos às médias de temperatura entre 1951 e 1980. Os dados originais podem ser vistos no site da NASA/GISS, e estão dispostos a cada década na tabela abaixo.\n",
    "\n",
    "|ano|anomalia termica|\n",
    "|:-:|:----:|\n",
    "| 1900 | -0.08 |\n",
    "| 1920 | -0.27 |\n",
    "| 1940 | 0.12 |\n",
    "| 1960 | -0.03 |\n",
    "| 1980 | 0.26 |\n",
    "| 2000 | 0.40 |\n",
    "| 2020 | 1.02 |\n",
    "\n",
    "Crie uma séries do Pandas a partir de uma lista com esses dados."
   ]
  },
  {
   "cell_type": "code",
   "execution_count": 16,
   "metadata": {},
   "outputs": [
    {
     "name": "stdout",
     "output_type": "stream",
     "text": [
      "0    1900\n",
      "1    1920\n",
      "2    1940\n",
      "3    1960\n",
      "4    1980\n",
      "5    2000\n",
      "6    2020\n",
      "dtype: int64\n",
      "\n",
      "0   -0.08\n",
      "1   -0.27\n",
      "2    0.12\n",
      "3   -0.03\n",
      "4    0.26\n",
      "5    0.40\n",
      "6    1.02\n",
      "dtype: float64\n"
     ]
    }
   ],
   "source": [
    "import pandas as pd\n",
    "import numpy as np\n",
    "\n",
    "# Seu código aqui\n",
    "\n",
    "# Dados fornecidos\n",
    "anos = [1900, 1920, 1940, 1960, 1980, 2000, 2020]\n",
    "anomalias_termicas = [-0.08, -0.27, 0.12, -0.03, 0.26, 0.40, 1.02]\n",
    "\n",
    "# Criando a séries separadas \n",
    "serie_anos = pd.Series(anos)\n",
    "serie_anomalias = pd.Series(anomalias_termicas)\n",
    "\n",
    "print(serie_anos)\n",
    "print(\"\")\n",
    "print(serie_anomalias)"
   ]
  },
  {
   "cell_type": "markdown",
   "metadata": {},
   "source": [
    "#### 2) Coloque os anos nos índices conforme a tabela."
   ]
  },
  {
   "cell_type": "code",
   "execution_count": 18,
   "metadata": {},
   "outputs": [
    {
     "name": "stdout",
     "output_type": "stream",
     "text": [
      "1900   -0.08\n",
      "1920   -0.27\n",
      "1940    0.12\n",
      "1960   -0.03\n",
      "1980    0.26\n",
      "2000    0.40\n",
      "2020    1.02\n",
      "dtype: float64\n"
     ]
    }
   ],
   "source": [
    "\n",
    "# seu código aqui\n",
    "# Criando um Panda Series com anos como índice\n",
    "serie_anomalias_anos = pd.Series(anomalias_termicas, index=anos)\n",
    "\n",
    "print(serie_anomalias_anos)"
   ]
  },
  {
   "cell_type": "markdown",
   "metadata": {},
   "source": [
    "#### 3) A partir do dicionário abaixo, crie uma séries do Pandas:"
   ]
  },
  {
   "cell_type": "code",
   "execution_count": 20,
   "metadata": {},
   "outputs": [
    {
     "name": "stdout",
     "output_type": "stream",
     "text": [
      "1900   -0.08\n",
      "1920   -0.27\n",
      "1940    0.12\n",
      "1960   -0.03\n",
      "1980    0.26\n",
      "2000    0.40\n",
      "2020    1.02\n",
      "dtype: float64\n"
     ]
    }
   ],
   "source": [
    "dic_temperaturas = {1900: -.08, 1920: -.27, 1940: .12, 1960: -.03, 1980: .26, 2000: .40, 2020: 1.02}\n",
    "\n",
    "# seu código aqui\n",
    "\n",
    "serie_temperaturas = pd.Series(dic_temperaturas)\n",
    "\n",
    "print(serie_temperaturas)"
   ]
  },
  {
   "cell_type": "markdown",
   "metadata": {},
   "source": [
    "#### 4) Transforme o ndarray abaixo em um dataframe. \n",
    "O numpy é capaz de gerar arrays n-dimensionais com números pseudo-aleatórios de acordo com uma variedade de distribuições, como no exemplo abaixo. Transforme esse nd-array em um DataFrame."
   ]
  },
  {
   "cell_type": "code",
   "execution_count": 24,
   "metadata": {},
   "outputs": [
    {
     "name": "stdout",
     "output_type": "stream",
     "text": [
      "             0           1           2\n",
      "0   107.373224   99.273423  101.392186\n",
      "1   110.816191  104.758849   98.446125\n",
      "2   102.904057   91.303488  110.893617\n",
      "3    95.426216  105.082339   85.935885\n",
      "4   103.328645  114.095390   89.392153\n",
      "5   114.151626  105.658821   79.790342\n",
      "6    96.917019  102.007515  105.399931\n",
      "7   100.927144  107.745548  101.995275\n",
      "8   125.481558  106.113427  100.437768\n",
      "9   105.975927  107.979323  101.394021\n",
      "10   89.198876   91.810509   92.078000\n",
      "11  101.888879  101.891442  114.575272\n",
      "12  100.240769   99.761392   98.857575\n",
      "13  109.574246   93.110283   94.672200\n",
      "14   99.609628   96.947809   89.772003\n",
      "15   92.506690   92.825252   90.858277\n",
      "16   77.929932  103.154885  107.505924\n",
      "17  117.026120   94.105135   98.283440\n",
      "18  107.641479  100.844851   87.897942\n",
      "19  111.523389   89.482529   87.750649\n"
     ]
    }
   ],
   "source": [
    "arr = np.random.normal(100, 10, (20,3))\n",
    "\n",
    "# seu código aqui\n",
    "\n",
    "df = pd.DataFrame(arr)\n",
    "\n",
    "print(df)"
   ]
  },
  {
   "cell_type": "markdown",
   "metadata": {},
   "source": [
    "#### 5) Nomeie os índices das linhas com inteiros de 1 a 20, e as colunas com os nomes \"x1\", \"x2\", e \"x3\" respectivamente."
   ]
  },
  {
   "cell_type": "code",
   "execution_count": 38,
   "metadata": {},
   "outputs": [
    {
     "name": "stdout",
     "output_type": "stream",
     "text": [
      "            x1          x2          x3\n",
      "1   107.373224   99.273423  101.392186\n",
      "2   110.816191  104.758849   98.446125\n",
      "3   102.904057   91.303488  110.893617\n",
      "4    95.426216  105.082339   85.935885\n",
      "5   103.328645  114.095390   89.392153\n",
      "6   114.151626  105.658821   79.790342\n",
      "7    96.917019  102.007515  105.399931\n",
      "8   100.927144  107.745548  101.995275\n",
      "9   125.481558  106.113427  100.437768\n",
      "10  105.975927  107.979323  101.394021\n",
      "11   89.198876   91.810509   92.078000\n",
      "12  101.888879  101.891442  114.575272\n",
      "13  100.240769   99.761392   98.857575\n",
      "14  109.574246   93.110283   94.672200\n",
      "15   99.609628   96.947809   89.772003\n",
      "16   92.506690   92.825252   90.858277\n",
      "17   77.929932  103.154885  107.505924\n",
      "18  117.026120   94.105135   98.283440\n",
      "19  107.641479  100.844851   87.897942\n",
      "20  111.523389   89.482529   87.750649\n"
     ]
    }
   ],
   "source": [
    "#seu código aqui\n",
    "df = pd.DataFrame(arr, index=range(1, 21), columns=[\"x1\", \"x2\", \"x3\"])\n",
    "\n",
    "print(df)"
   ]
  },
  {
   "cell_type": "markdown",
   "metadata": {},
   "source": [
    "#### 6) No DataFrame do exercício 5, crie uma nova coluna como sendo a média das três colunas, e dê a ela o nome de \"media\" (não recomendo colocar acentos em nomes de variáveis)."
   ]
  },
  {
   "cell_type": "code",
   "execution_count": 50,
   "metadata": {},
   "outputs": [
    {
     "name": "stdout",
     "output_type": "stream",
     "text": [
      "            x1          x2          x3       media\n",
      "1   107.373224   99.273423  101.392186  102.679611\n",
      "2   110.816191  104.758849   98.446125  104.673722\n",
      "3   102.904057   91.303488  110.893617  101.700387\n",
      "4    95.426216  105.082339   85.935885   95.481480\n",
      "5   103.328645  114.095390   89.392153  102.272063\n",
      "6   114.151626  105.658821   79.790342   99.866930\n",
      "7    96.917019  102.007515  105.399931  101.441488\n",
      "8   100.927144  107.745548  101.995275  103.555989\n",
      "9   125.481558  106.113427  100.437768  110.677585\n",
      "10  105.975927  107.979323  101.394021  105.116423\n",
      "11   89.198876   91.810509   92.078000   91.029128\n",
      "12  101.888879  101.891442  114.575272  106.118531\n",
      "13  100.240769   99.761392   98.857575   99.619912\n",
      "14  109.574246   93.110283   94.672200   99.118910\n",
      "15   99.609628   96.947809   89.772003   95.443147\n",
      "16   92.506690   92.825252   90.858277   92.063406\n",
      "17   77.929932  103.154885  107.505924   96.196914\n",
      "18  117.026120   94.105135   98.283440  103.138231\n",
      "19  107.641479  100.844851   87.897942   98.794757\n",
      "20  111.523389   89.482529   87.750649   96.252189\n"
     ]
    }
   ],
   "source": [
    "# seu código aqui\n",
    "\n",
    "# Calculando a média das colunas\n",
    "df[\"media\"] = df.mean(axis=1)\n",
    "\n",
    "print(df)"
   ]
  },
  {
   "cell_type": "markdown",
   "metadata": {},
   "source": [
    "#### 7) No DataFrame do exercício 6, crie uma nova coluna chamada \"log_med\", contendo o logaritmo natural da média calculada no exercício 6 <br>"
   ]
  },
  {
   "cell_type": "code",
   "execution_count": 52,
   "metadata": {},
   "outputs": [
    {
     "name": "stdout",
     "output_type": "stream",
     "text": [
      "            x1          x2          x3       media   log_med\n",
      "1   107.373224   99.273423  101.392186  102.679611  4.631614\n",
      "2   110.816191  104.758849   98.446125  104.673722  4.650848\n",
      "3   102.904057   91.303488  110.893617  101.700387  4.622031\n",
      "4    95.426216  105.082339   85.935885   95.481480  4.558932\n",
      "5   103.328645  114.095390   89.392153  102.272063  4.627637\n",
      "6   114.151626  105.658821   79.790342   99.866930  4.603839\n",
      "7    96.917019  102.007515  105.399931  101.441488  4.619482\n",
      "8   100.927144  107.745548  101.995275  103.555989  4.640112\n",
      "9   125.481558  106.113427  100.437768  110.677585  4.706621\n",
      "10  105.975927  107.979323  101.394021  105.116423  4.655069\n",
      "11   89.198876   91.810509   92.078000   91.029128  4.511180\n",
      "12  101.888879  101.891442  114.575272  106.118531  4.664557\n",
      "13  100.240769   99.761392   98.857575   99.619912  4.601362\n",
      "14  109.574246   93.110283   94.672200   99.118910  4.596320\n",
      "15   99.609628   96.947809   89.772003   95.443147  4.558531\n",
      "16   92.506690   92.825252   90.858277   92.063406  4.522478\n",
      "17   77.929932  103.154885  107.505924   96.196914  4.566397\n",
      "18  117.026120   94.105135   98.283440  103.138231  4.636070\n",
      "19  107.641479  100.844851   87.897942   98.794757  4.593045\n",
      "20  111.523389   89.482529   87.750649   96.252189  4.566972\n"
     ]
    }
   ],
   "source": [
    "# seu código aqui\n",
    "df[\"log_med\"] = np.log(df[\"media\"])\n",
    "\n",
    "print(df)"
   ]
  }
 ],
 "metadata": {
  "kernelspec": {
   "display_name": "Python 3 (ipykernel)",
   "language": "python",
   "name": "python3"
  },
  "language_info": {
   "codemirror_mode": {
    "name": "ipython",
    "version": 3
   },
   "file_extension": ".py",
   "mimetype": "text/x-python",
   "name": "python",
   "nbconvert_exporter": "python",
   "pygments_lexer": "ipython3",
   "version": "3.12.4"
  }
 },
 "nbformat": 4,
 "nbformat_minor": 4
}
